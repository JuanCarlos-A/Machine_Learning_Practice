{
 "cells": [
  {
   "cell_type": "code",
   "execution_count": 49,
   "id": "c2d5bb3c-88c8-4c7f-af8b-3dbdca05657b",
   "metadata": {},
   "outputs": [
    {
     "data": {
      "text/plain": [
       "array(['fps'], dtype=object)"
      ]
     },
     "execution_count": 49,
     "metadata": {},
     "output_type": "execute_result"
    }
   ],
   "source": [
    "import pandas as pd #Importacion de Pandas\n",
    "from sklearn.tree import DecisionTreeClassifier #Importacion de un modelo de scikitlearm\n",
    "import joblib\n",
    "\n",
    "\n",
    "# #Preparar la data\n",
    "# data_juegos = pd.read_csv(\"data/juegos-ml.csv\") #Crear un dataframe en base a un CSV\n",
    "# X = data_juegos.drop(columns = [\"juegos\"]) #Crear un dataframe que no incluya la columna de juegos\n",
    "# y = data_juegos[\"juegos\"] # Datafrane que retiene unicamente la columna de juegos\n",
    "\n",
    "\n",
    "# #Entrenar un modelo\n",
    "# modelo = DecisionTreeClassifier() # Instancia del modelo\n",
    "# modelo.fit(X.values, y) #Ingresamos los valores que va a tomar para entrada y los que espera de salida\n",
    "\n",
    "\n",
    "# #Cargar un modelo para ser guardado\n",
    "# joblib.dump(modelo, \"recomendador-juegos.joblib\")\n",
    "\n",
    "\n",
    "# Cargar un modelo para ser utilizado\n",
    "modelo = joblib.load(\"recomendador-juegos.joblib\")\n",
    "\n",
    "predicciones = modelo.predict([[14, 0]])\n",
    "\n",
    "predicciones\n",
    "\n"
   ]
  },
  {
   "cell_type": "code",
   "execution_count": 47,
   "id": "c277d8d5-7604-40aa-9f51-3252168204de",
   "metadata": {},
   "outputs": [],
   "source": [
    "# Ejemplo de entrenamieno de un modelo de Desicion Tree"
   ]
  },
  {
   "cell_type": "code",
   "execution_count": null,
   "id": "a7a735ce-8739-427a-891c-7cec84cba526",
   "metadata": {},
   "outputs": [],
   "source": [
    "# import pandas as pd #Importacion de Pandas\n",
    "# from sklearn.tree import DecisionTreeClassifier #Importacion de un modelo de scikitlearm\n",
    "# from sklearn.model_selection import train_test_split\n",
    "# from sklearn.metrics import accuracy_score\n",
    "\n",
    "# #Preparar la data\n",
    "\n",
    "# data_juegos = pd.read_csv(\"data/juegos-ml.csv\") #Crear un dataframe en base a un CSV\n",
    "# X = data_juegos.drop(columns = [\"juegos\"]) #Crear un dataframe que no incluya la columna de juegos\n",
    "# y = data_juegos[\"juegos\"] # Datafrane que retiene unicamente la columna de juegos\n",
    "# data_juegos\n",
    "\n",
    "# X_entrenar, X_prueba, y_entrenar, y_prueba = train_test_split(X.values, y, test_size=0.1)\n",
    "\n",
    "\n",
    "# #Entrenar un modelo\n",
    "# modelo = DecisionTreeClassifier() # Instancia del modelo\n",
    "# modelo.fit(X_entrenar, y_entrenar) #Ingresamos los valores que va a tomar para entrada y los que espera de salida\n",
    "# predicciones = modelo.predict(X_prueba) # Realiza la prediccion segun el set de datos que espera\n",
    "\n",
    "# puntaje = accuracy_score(y_prueba, predicciones )\n",
    "\n",
    "# puntaje\n"
   ]
  }
 ],
 "metadata": {
  "kernelspec": {
   "display_name": "Python 3 (ipykernel)",
   "language": "python",
   "name": "python3"
  },
  "language_info": {
   "codemirror_mode": {
    "name": "ipython",
    "version": 3
   },
   "file_extension": ".py",
   "mimetype": "text/x-python",
   "name": "python",
   "nbconvert_exporter": "python",
   "pygments_lexer": "ipython3",
   "version": "3.11.7"
  }
 },
 "nbformat": 4,
 "nbformat_minor": 5
}
