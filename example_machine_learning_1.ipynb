{
 "cells": [
  {
   "cell_type": "code",
   "execution_count": 3,
   "id": "c2d5bb3c-88c8-4c7f-af8b-3dbdca05657b",
   "metadata": {},
   "outputs": [
    {
     "data": {
      "text/html": [
       "<style>#sk-container-id-1 {color: black;background-color: white;}#sk-container-id-1 pre{padding: 0;}#sk-container-id-1 div.sk-toggleable {background-color: white;}#sk-container-id-1 label.sk-toggleable__label {cursor: pointer;display: block;width: 100%;margin-bottom: 0;padding: 0.3em;box-sizing: border-box;text-align: center;}#sk-container-id-1 label.sk-toggleable__label-arrow:before {content: \"▸\";float: left;margin-right: 0.25em;color: #696969;}#sk-container-id-1 label.sk-toggleable__label-arrow:hover:before {color: black;}#sk-container-id-1 div.sk-estimator:hover label.sk-toggleable__label-arrow:before {color: black;}#sk-container-id-1 div.sk-toggleable__content {max-height: 0;max-width: 0;overflow: hidden;text-align: left;background-color: #f0f8ff;}#sk-container-id-1 div.sk-toggleable__content pre {margin: 0.2em;color: black;border-radius: 0.25em;background-color: #f0f8ff;}#sk-container-id-1 input.sk-toggleable__control:checked~div.sk-toggleable__content {max-height: 200px;max-width: 100%;overflow: auto;}#sk-container-id-1 input.sk-toggleable__control:checked~label.sk-toggleable__label-arrow:before {content: \"▾\";}#sk-container-id-1 div.sk-estimator input.sk-toggleable__control:checked~label.sk-toggleable__label {background-color: #d4ebff;}#sk-container-id-1 div.sk-label input.sk-toggleable__control:checked~label.sk-toggleable__label {background-color: #d4ebff;}#sk-container-id-1 input.sk-hidden--visually {border: 0;clip: rect(1px 1px 1px 1px);clip: rect(1px, 1px, 1px, 1px);height: 1px;margin: -1px;overflow: hidden;padding: 0;position: absolute;width: 1px;}#sk-container-id-1 div.sk-estimator {font-family: monospace;background-color: #f0f8ff;border: 1px dotted black;border-radius: 0.25em;box-sizing: border-box;margin-bottom: 0.5em;}#sk-container-id-1 div.sk-estimator:hover {background-color: #d4ebff;}#sk-container-id-1 div.sk-parallel-item::after {content: \"\";width: 100%;border-bottom: 1px solid gray;flex-grow: 1;}#sk-container-id-1 div.sk-label:hover label.sk-toggleable__label {background-color: #d4ebff;}#sk-container-id-1 div.sk-serial::before {content: \"\";position: absolute;border-left: 1px solid gray;box-sizing: border-box;top: 0;bottom: 0;left: 50%;z-index: 0;}#sk-container-id-1 div.sk-serial {display: flex;flex-direction: column;align-items: center;background-color: white;padding-right: 0.2em;padding-left: 0.2em;position: relative;}#sk-container-id-1 div.sk-item {position: relative;z-index: 1;}#sk-container-id-1 div.sk-parallel {display: flex;align-items: stretch;justify-content: center;background-color: white;position: relative;}#sk-container-id-1 div.sk-item::before, #sk-container-id-1 div.sk-parallel-item::before {content: \"\";position: absolute;border-left: 1px solid gray;box-sizing: border-box;top: 0;bottom: 0;left: 50%;z-index: -1;}#sk-container-id-1 div.sk-parallel-item {display: flex;flex-direction: column;z-index: 1;position: relative;background-color: white;}#sk-container-id-1 div.sk-parallel-item:first-child::after {align-self: flex-end;width: 50%;}#sk-container-id-1 div.sk-parallel-item:last-child::after {align-self: flex-start;width: 50%;}#sk-container-id-1 div.sk-parallel-item:only-child::after {width: 0;}#sk-container-id-1 div.sk-dashed-wrapped {border: 1px dashed gray;margin: 0 0.4em 0.5em 0.4em;box-sizing: border-box;padding-bottom: 0.4em;background-color: white;}#sk-container-id-1 div.sk-label label {font-family: monospace;font-weight: bold;display: inline-block;line-height: 1.2em;}#sk-container-id-1 div.sk-label-container {text-align: center;}#sk-container-id-1 div.sk-container {/* jupyter's `normalize.less` sets `[hidden] { display: none; }` but bootstrap.min.css set `[hidden] { display: none !important; }` so we also need the `!important` here to be able to override the default hidden behavior on the sphinx rendered scikit-learn.org. See: https://github.com/scikit-learn/scikit-learn/issues/21755 */display: inline-block !important;position: relative;}#sk-container-id-1 div.sk-text-repr-fallback {display: none;}</style><div id=\"sk-container-id-1\" class=\"sk-top-container\"><div class=\"sk-text-repr-fallback\"><pre>DecisionTreeClassifier()</pre><b>In a Jupyter environment, please rerun this cell to show the HTML representation or trust the notebook. <br />On GitHub, the HTML representation is unable to render, please try loading this page with nbviewer.org.</b></div><div class=\"sk-container\" hidden><div class=\"sk-item\"><div class=\"sk-estimator sk-toggleable\"><input class=\"sk-toggleable__control sk-hidden--visually\" id=\"sk-estimator-id-1\" type=\"checkbox\" checked><label for=\"sk-estimator-id-1\" class=\"sk-toggleable__label sk-toggleable__label-arrow\">DecisionTreeClassifier</label><div class=\"sk-toggleable__content\"><pre>DecisionTreeClassifier()</pre></div></div></div></div></div>"
      ],
      "text/plain": [
       "DecisionTreeClassifier()"
      ]
     },
     "execution_count": 3,
     "metadata": {},
     "output_type": "execute_result"
    }
   ],
   "source": [
    "import pandas as pd #Importacion de Pandas\n",
    "from sklearn.tree import DecisionTreeClassifier #Importacion de un modelo de scikitlearm\n",
    "import joblib\n",
    "\n",
    "\n",
    "# #Preparar la data\n",
    "# data_juegos = pd.read_csv(\"data/juegos-ml.csv\") #Crear un dataframe en base a un CSV\n",
    "# X = data_juegos.drop(columns = [\"juegos\"]) #Crear un dataframe que no incluya la columna de juegos\n",
    "# y = data_juegos[\"juegos\"] # Datafrane que retiene unicamente la columna de juegos\n",
    "\n",
    "\n",
    "# #Entrenar un modelo\n",
    "# modelo = DecisionTreeClassifier() # Instancia del modelo\n",
    "# modelo.fit(X.values, y) #Ingresamos los valores que va a tomar para entrada y los que espera de salida\n",
    "\n",
    "\n",
    "# #Cargar un modelo para ser guardado\n",
    "# joblib.dump(modelo, \"recomendador-juegos.joblib\")\n",
    "\n",
    "\n",
    "# Cargar un modelo para ser utilizado\n",
    "modelo = joblib.load(\"recomendador-juegos.joblib\")\n",
    "\n",
    "predicciones = modelo.predict([[14, 0]])\n",
    "\n",
    "modelo"
   ]
  },
  {
   "cell_type": "code",
   "execution_count": 47,
   "id": "c277d8d5-7604-40aa-9f51-3252168204de",
   "metadata": {},
   "outputs": [],
   "source": [
    "# Ejemplo de entrenamieno de un modelo de Desicion Tree"
   ]
  },
  {
   "cell_type": "code",
   "execution_count": null,
   "id": "a7a735ce-8739-427a-891c-7cec84cba526",
   "metadata": {},
   "outputs": [],
   "source": [
    "# import pandas as pd #Importacion de Pandas\n",
    "# from sklearn.tree import DecisionTreeClassifier #Importacion de un modelo de scikitlearm\n",
    "# from sklearn.model_selection import train_test_split\n",
    "# from sklearn.metrics import accuracy_score\n",
    "\n",
    "# #Preparar la data\n",
    "\n",
    "# data_juegos = pd.read_csv(\"data/juegos-ml.csv\") #Crear un dataframe en base a un CSV\n",
    "# X = data_juegos.drop(columns = [\"juegos\"]) #Crear un dataframe que no incluya la columna de juegos\n",
    "# y = data_juegos[\"juegos\"] # Datafrane que retiene unicamente la columna de juegos\n",
    "# data_juegos\n",
    "\n",
    "# X_entrenar, X_prueba, y_entrenar, y_prueba = train_test_split(X.values, y, test_size=0.1)\n",
    "\n",
    "\n",
    "# #Entrenar un modelo\n",
    "# modelo = DecisionTreeClassifier() # Instancia del modelo\n",
    "# modelo.fit(X_entrenar, y_entrenar) #Ingresamos los valores que va a tomar para entrada y los que espera de salida\n",
    "# predicciones = modelo.predict(X_prueba) # Realiza la prediccion segun el set de datos que espera\n",
    "\n",
    "# puntaje = accuracy_score(y_prueba, predicciones )\n",
    "\n",
    "# puntaje\n"
   ]
  }
 ],
 "metadata": {
  "kernelspec": {
   "display_name": "Python 3 (ipykernel)",
   "language": "python",
   "name": "python3"
  },
  "language_info": {
   "codemirror_mode": {
    "name": "ipython",
    "version": 3
   },
   "file_extension": ".py",
   "mimetype": "text/x-python",
   "name": "python",
   "nbconvert_exporter": "python",
   "pygments_lexer": "ipython3",
   "version": "3.11.7"
  }
 },
 "nbformat": 4,
 "nbformat_minor": 5
}
